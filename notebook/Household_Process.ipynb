{
 "cells": [
  {
   "cell_type": "code",
   "execution_count": 1,
   "metadata": {
    "collapsed": true
   },
   "outputs": [],
   "source": [
    "import numpy as np\n",
    "import pandas as pd\n",
    "from pysandag.database import get_connection_string\n",
    "from sqlalchemy import create_engine\n",
    "from urbansim.models.lcm import unit_choice"
   ]
  },
  {
   "cell_type": "code",
   "execution_count": 2,
   "metadata": {
    "collapsed": true
   },
   "outputs": [],
   "source": [
    "urbansim_engine = create_engine(get_connection_string(\"E:/Apps/urbansim/sandag/configs/dbconfig.yml\", 'urbansim_database'))"
   ]
  },
  {
   "cell_type": "code",
   "execution_count": 3,
   "metadata": {
    "collapsed": true
   },
   "outputs": [],
   "source": [
    "bldgs_sql = \"\"\"SELECT \n",
    "                 id as building_id, bldg.development_type_id, bldg.parcel_id, improvement_value, residential_units, residential_sqft\n",
    "                 ,non_residential_sqft, price_per_sqft, stories, year_built, p.mgra_id as mgra\n",
    "               FROM \n",
    "                 urbansim.buildings bldg\n",
    "                 INNER JOIN spacecore.urbansim.parcels p ON bldg.parcel_id = p.parcel_id\"\"\"\n",
    "\n",
    "# Get 2015 Households from ABM\n",
    "hh_sql =  \"\"\"SELECT\n",
    "               scenario_id, lu_hh_id as household_id, building_id, mgra, tenure, persons, workers, age_of_head, income, children\n",
    "               ,race_id, cars\n",
    "             FROM\n",
    "               input.household(127)\"\"\""
   ]
  },
  {
   "cell_type": "code",
   "execution_count": 4,
   "metadata": {
    "collapsed": false
   },
   "outputs": [],
   "source": [
    "buildings = pd.read_sql(bldgs_sql, urbansim_engine, index_col='building_id')\n",
    "households = pd.read_sql(hh_sql, urbansim_engine, index_col='household_id')"
   ]
  },
  {
   "cell_type": "code",
   "execution_count": 5,
   "metadata": {
    "collapsed": false,
    "scrolled": true
   },
   "outputs": [],
   "source": [
    "empty_units = buildings[buildings['residential_units'] > 0]['residential_units'].sort_values(ascending=False)\n",
    "alternatives = buildings[['development_type_id', 'parcel_id', 'mgra']]\n",
    "alternatives = alternatives.ix[np.repeat(empty_units.index.values, empty_units.values.astype('int'))]"
   ]
  },
  {
   "cell_type": "code",
   "execution_count": 6,
   "metadata": {
    "collapsed": false,
    "scrolled": true
   },
   "outputs": [],
   "source": [
    "mgra_agent_counts = households.groupby('mgra').size()"
   ]
  },
  {
   "cell_type": "code",
   "execution_count": 7,
   "metadata": {
    "collapsed": false
   },
   "outputs": [],
   "source": [
    "num_households = mgra_agent_counts[mgra_agent_counts.index.values == 560].values[0]\n",
    "chooser_ids = households.index[households['mgra'] == 560].values\n",
    "alternative_ids = alternatives[alternatives['mgra'] == 560].index.values\n",
    "probabilities = np.ones(len(alternative_ids))\n",
    "num_units = len(alternative_ids)\n",
    "choices = unit_choice(chooser_ids, alternative_ids, probabilities)\n",
    "households.loc[chooser_ids, 'building_id'] = choices"
   ]
  },
  {
   "cell_type": "code",
   "execution_count": null,
   "metadata": {
    "collapsed": false
   },
   "outputs": [],
   "source": [
    "def random_allocate_households(households, buildings, mgra_id_col, units_col):\n",
    "    audit_df = pd.DataFrame(\n",
    "                    data=np.zeros((len(np.unique(households[mgra_id_col])), 3), dtype=np.int)\n",
    "                    ,index=np.unique(households[mgra_id_col])\n",
    "                    ,columns=['demand','supply','residual'])\n",
    "    \n",
    "    empty_units = buildings[buildings[units_col] > 0][units_col].sort_values(ascending=False)\n",
    "    alternatives = buildings[['development_type_id', 'parcel_id', mgra_id_col]]\n",
    "    alternatives = alternatives.ix[np.repeat(empty_units.index.values, empty_units.values.astype('int'))]\n",
    "    \n",
    "    mgra_agent_counts = households.groupby(mgra_id_col).size()\n",
    "    \n",
    "    for mgra in np.unique(households[mgra_id_col]):\n",
    "        print \"Processing MGRA: %s\" % (mgra)\n",
    "        num_households = mgra_agent_counts[mgra_agent_counts.index.values == mgra].values[0]\n",
    "        chooser_ids = households.index[households[mgra_id_col] == mgra].values\n",
    "        alternative_ids = alternatives[alternatives[mgra_id_col] == mgra].index.values\n",
    "        probabilities = np.ones(len(alternative_ids))\n",
    "        num_units = len(alternative_ids)\n",
    "        choices = unit_choice(chooser_ids, alternative_ids, probabilities)\n",
    "        households.loc[chooser_ids, 'building_id'] = choices\n",
    "        audit_df.ix[mgra] = [num_households, num_units, num_units - num_households]\n",
    "    \n",
    "    return audit_df"
   ]
  },
  {
   "cell_type": "code",
   "execution_count": null,
   "metadata": {
    "collapsed": false
   },
   "outputs": [],
   "source": [
    "results_df = random_allocate_households(households, buildings, 'mgra', 'residential_units')"
   ]
  },
  {
   "cell_type": "code",
   "execution_count": 9,
   "metadata": {
    "collapsed": false
   },
   "outputs": [
    {
     "name": "stdout",
     "output_type": "stream",
     "text": [
      "scenario_id\n",
      "building_id\n",
      "mgra\n",
      "tenure\n",
      "persons\n",
      "workers\n",
      "age_of_head\n",
      "income\n",
      "children\n",
      "race_id\n",
      "cars\n"
     ]
    }
   ],
   "source": [
    "households.ix[households.building_id.isnull(), 'building_id'] = -1\n",
    "households['tenure'] = -1\n",
    "\n",
    "for col in households.columns:\n",
    "    print col\n",
    "    households[col] = households[col].astype('int')"
   ]
  },
  {
   "cell_type": "code",
   "execution_count": 10,
   "metadata": {
    "collapsed": false
   },
   "outputs": [
    {
     "name": "stderr",
     "output_type": "stream",
     "text": [
      "e:\\Python27_64bit\\lib\\site-packages\\sqlalchemy\\dialects\\mssql\\base.py:1170: SAWarning: legacy_schema_aliasing flag is defaulted to True; some schema-qualified queries may not function correctly. Consider setting this flag to False for modern SQL Server versions; this flag will default to False in version 1.1\n",
      "  \"legacy_schema_aliasing flag is defaulted to True; \"\n"
     ]
    }
   ],
   "source": [
    "households.to_sql('households', urbansim_engine, schema='urbansim', if_exists='replace', chunksize=1000)"
   ]
  },
  {
   "cell_type": "code",
   "execution_count": null,
   "metadata": {
    "collapsed": true
   },
   "outputs": [],
   "source": []
  }
 ],
 "metadata": {
  "kernelspec": {
   "display_name": "Python 2",
   "language": "python",
   "name": "python2"
  },
  "language_info": {
   "codemirror_mode": {
    "name": "ipython",
    "version": 2
   },
   "file_extension": ".py",
   "mimetype": "text/x-python",
   "name": "python",
   "nbconvert_exporter": "python",
   "pygments_lexer": "ipython2",
   "version": "2.7.11"
  }
 },
 "nbformat": 4,
 "nbformat_minor": 0
}
